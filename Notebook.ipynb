{
 "cells": [
  {
   "cell_type": "markdown",
   "id": "5f63a95f",
   "metadata": {},
   "source": [
    "# Explicació de la base de dades a analitzar"
   ]
  },
  {
   "cell_type": "markdown",
   "id": "c18b81f2",
   "metadata": {},
   "source": [
    "En aquesta base de dades, es recull informació de més de 20.000 partides d'escacs online, jugades en la pàgina de Lichess.org. Els camps dels que es recull informació de les partides són els següents:\n",
    "    ·Game ID;\n",
    "    ·Rated (T/F);\n",
    "    ·Start Time;\n",
    "    ·End Time;\n",
    "    ·Number of Turns;\n",
    "    ·Game Status;\n",
    "    ·Winner;\n",
    "    ·Time Increment;\n",
    "    ·White Player ID;\n",
    "    ·White Player Rating;\n",
    "    ·Black Player ID;\n",
    "    ·Black Player Rating;\n",
    "    ·All Moves in Standard Chess Notation;\n",
    "    ·Opening Eco (Standardised Code for any given opening, list here);\n",
    "    ·Opening Name;\n",
    "    ·Opening Ply (Number of moves in the opening phase)\n",
    "\n",
    "La base de dades en sí no té un objectiu concret, però se'n poden derivar alguns de diferents a partir de les dades. Exemples d'objectius a predir serien què permet a un jugador guanyar jugant com a blanc o negre, com afecten els factors externs al joc, la relació entre començar jugant (fent el primer moviment) i guanyar com a blanc o com a negre...\n",
    "\n"
   ]
  },
  {
   "cell_type": "markdown",
   "id": "571a3a1b",
   "metadata": {},
   "source": [
    "# Llibreries utilitzades"
   ]
  },
  {
   "cell_type": "markdown",
   "id": "a5b8fd83",
   "metadata": {},
   "source": [
    "Les llibreries que es necessitaran per a fer el projecte son les següents:\n",
    "    ·Numpy -> Servirà per operar amb matrius de forma eficient.\n",
    "    ·Pandas -> Servirà per a organitzar i manipular la informació, guardada en forma de taula.\n",
    "    ·MatPlot -> Servirà per a fer gràfiques a partir de les matrius.\n",
    "    ·Spicy -> Servirà per a fer operacions matemàtiques.\n",
    "    ·Seaborn -> Utilizta MatPlot i permet fer gràfiques més complexes.\n",
    "    ·Sklearn -> Permetrà utilitzar diferents models d'aprenentatge computacional.\n",
    "    ·Math -> Permetrà fer operacions matemàtiques amb nombres reals."
   ]
  },
  {
   "cell_type": "code",
   "execution_count": 1,
   "id": "c81783ce",
   "metadata": {},
   "outputs": [],
   "source": [
    "import numpy as np\n",
    "\n",
    "import pandas as pd\n",
    "\n",
    "import matplotlib.pyplot as plt\n",
    "\n",
    "import scipy\n",
    "\n",
    "import seaborn as sns\n",
    "\n",
    "from sklearn.preprocessing import MinMaxScaler\n",
    "from sklearn.tree import DecisionTreeRegressor\n",
    "from sklearn.linear_model import LinearRegression\n",
    "from sklearn.ensemble import RandomForestRegressor\n",
    "from sklearn.linear_model import LogisticRegression\n",
    "from sklearn.model_selection import RandomizedSearchCV, GridSearchCV, train_test_split\n",
    "from sklearn.metrics import mean_squared_error\n",
    "\n",
    "\n",
    "import math\n",
    "\n"
   ]
  },
  {
   "cell_type": "markdown",
   "id": "1bd01c52",
   "metadata": {},
   "source": [
    "# Optimització i manipulació de les dades"
   ]
  },
  {
   "cell_type": "markdown",
   "id": "347c3171",
   "metadata": {},
   "source": [
    "En aquest apartat es manipularan les dades per a poder operar amb elles de millor forma. D'aquesta manera, s'eliminaran columnes duplicades, files duplicades, valors Nan..."
   ]
  },
  {
   "cell_type": "code",
   "execution_count": 2,
   "id": "6233c550",
   "metadata": {
    "scrolled": true
   },
   "outputs": [
    {
     "data": {
      "text/html": [
       "<div>\n",
       "<style scoped>\n",
       "    .dataframe tbody tr th:only-of-type {\n",
       "        vertical-align: middle;\n",
       "    }\n",
       "\n",
       "    .dataframe tbody tr th {\n",
       "        vertical-align: top;\n",
       "    }\n",
       "\n",
       "    .dataframe thead th {\n",
       "        text-align: right;\n",
       "    }\n",
       "</style>\n",
       "<table border=\"1\" class=\"dataframe\">\n",
       "  <thead>\n",
       "    <tr style=\"text-align: right;\">\n",
       "      <th></th>\n",
       "      <th>id</th>\n",
       "      <th>rated</th>\n",
       "      <th>created_at</th>\n",
       "      <th>last_move_at</th>\n",
       "      <th>turns</th>\n",
       "      <th>victory_status</th>\n",
       "      <th>winner</th>\n",
       "      <th>increment_code</th>\n",
       "      <th>white_id</th>\n",
       "      <th>white_rating</th>\n",
       "      <th>black_id</th>\n",
       "      <th>black_rating</th>\n",
       "      <th>moves</th>\n",
       "      <th>opening_eco</th>\n",
       "      <th>opening_name</th>\n",
       "      <th>opening_ply</th>\n",
       "    </tr>\n",
       "  </thead>\n",
       "  <tbody>\n",
       "    <tr>\n",
       "      <th>0</th>\n",
       "      <td>TZJHLljE</td>\n",
       "      <td>False</td>\n",
       "      <td>1.504210e+12</td>\n",
       "      <td>1.504210e+12</td>\n",
       "      <td>13</td>\n",
       "      <td>outoftime</td>\n",
       "      <td>white</td>\n",
       "      <td>15+2</td>\n",
       "      <td>bourgris</td>\n",
       "      <td>1500</td>\n",
       "      <td>a-00</td>\n",
       "      <td>1191</td>\n",
       "      <td>d4 d5 c4 c6 cxd5 e6 dxe6 fxe6 Nf3 Bb4+ Nc3 Ba5...</td>\n",
       "      <td>D10</td>\n",
       "      <td>Slav Defense: Exchange Variation</td>\n",
       "      <td>5</td>\n",
       "    </tr>\n",
       "    <tr>\n",
       "      <th>1</th>\n",
       "      <td>l1NXvwaE</td>\n",
       "      <td>True</td>\n",
       "      <td>1.504130e+12</td>\n",
       "      <td>1.504130e+12</td>\n",
       "      <td>16</td>\n",
       "      <td>resign</td>\n",
       "      <td>black</td>\n",
       "      <td>5+10</td>\n",
       "      <td>a-00</td>\n",
       "      <td>1322</td>\n",
       "      <td>skinnerua</td>\n",
       "      <td>1261</td>\n",
       "      <td>d4 Nc6 e4 e5 f4 f6 dxe5 fxe5 fxe5 Nxe5 Qd4 Nc6...</td>\n",
       "      <td>B00</td>\n",
       "      <td>Nimzowitsch Defense: Kennedy Variation</td>\n",
       "      <td>4</td>\n",
       "    </tr>\n",
       "    <tr>\n",
       "      <th>2</th>\n",
       "      <td>mIICvQHh</td>\n",
       "      <td>True</td>\n",
       "      <td>1.504130e+12</td>\n",
       "      <td>1.504130e+12</td>\n",
       "      <td>61</td>\n",
       "      <td>mate</td>\n",
       "      <td>white</td>\n",
       "      <td>5+10</td>\n",
       "      <td>ischia</td>\n",
       "      <td>1496</td>\n",
       "      <td>a-00</td>\n",
       "      <td>1500</td>\n",
       "      <td>e4 e5 d3 d6 Be3 c6 Be2 b5 Nd2 a5 a4 c5 axb5 Nc...</td>\n",
       "      <td>C20</td>\n",
       "      <td>King's Pawn Game: Leonardis Variation</td>\n",
       "      <td>3</td>\n",
       "    </tr>\n",
       "    <tr>\n",
       "      <th>3</th>\n",
       "      <td>kWKvrqYL</td>\n",
       "      <td>True</td>\n",
       "      <td>1.504110e+12</td>\n",
       "      <td>1.504110e+12</td>\n",
       "      <td>61</td>\n",
       "      <td>mate</td>\n",
       "      <td>white</td>\n",
       "      <td>20+0</td>\n",
       "      <td>daniamurashov</td>\n",
       "      <td>1439</td>\n",
       "      <td>adivanov2009</td>\n",
       "      <td>1454</td>\n",
       "      <td>d4 d5 Nf3 Bf5 Nc3 Nf6 Bf4 Ng4 e3 Nc6 Be2 Qd7 O...</td>\n",
       "      <td>D02</td>\n",
       "      <td>Queen's Pawn Game: Zukertort Variation</td>\n",
       "      <td>3</td>\n",
       "    </tr>\n",
       "    <tr>\n",
       "      <th>4</th>\n",
       "      <td>9tXo1AUZ</td>\n",
       "      <td>True</td>\n",
       "      <td>1.504030e+12</td>\n",
       "      <td>1.504030e+12</td>\n",
       "      <td>95</td>\n",
       "      <td>mate</td>\n",
       "      <td>white</td>\n",
       "      <td>30+3</td>\n",
       "      <td>nik221107</td>\n",
       "      <td>1523</td>\n",
       "      <td>adivanov2009</td>\n",
       "      <td>1469</td>\n",
       "      <td>e4 e5 Nf3 d6 d4 Nc6 d5 Nb4 a3 Na6 Nc3 Be7 b4 N...</td>\n",
       "      <td>C41</td>\n",
       "      <td>Philidor Defense</td>\n",
       "      <td>5</td>\n",
       "    </tr>\n",
       "    <tr>\n",
       "      <th>5</th>\n",
       "      <td>MsoDV9wj</td>\n",
       "      <td>False</td>\n",
       "      <td>1.504240e+12</td>\n",
       "      <td>1.504240e+12</td>\n",
       "      <td>5</td>\n",
       "      <td>draw</td>\n",
       "      <td>draw</td>\n",
       "      <td>10+0</td>\n",
       "      <td>trelynn17</td>\n",
       "      <td>1250</td>\n",
       "      <td>franklin14532</td>\n",
       "      <td>1002</td>\n",
       "      <td>e4 c5 Nf3 Qa5 a3</td>\n",
       "      <td>B27</td>\n",
       "      <td>Sicilian Defense: Mongoose Variation</td>\n",
       "      <td>4</td>\n",
       "    </tr>\n",
       "    <tr>\n",
       "      <th>6</th>\n",
       "      <td>qwU9rasv</td>\n",
       "      <td>True</td>\n",
       "      <td>1.504230e+12</td>\n",
       "      <td>1.504230e+12</td>\n",
       "      <td>33</td>\n",
       "      <td>resign</td>\n",
       "      <td>white</td>\n",
       "      <td>10+0</td>\n",
       "      <td>capa_jr</td>\n",
       "      <td>1520</td>\n",
       "      <td>daniel_likes_chess</td>\n",
       "      <td>1423</td>\n",
       "      <td>d4 d5 e4 dxe4 Nc3 Nf6 f3 exf3 Nxf3 Nc6 Bb5 a6 ...</td>\n",
       "      <td>D00</td>\n",
       "      <td>Blackmar-Diemer Gambit: Pietrowsky Defense</td>\n",
       "      <td>10</td>\n",
       "    </tr>\n",
       "    <tr>\n",
       "      <th>7</th>\n",
       "      <td>RVN0N3VK</td>\n",
       "      <td>False</td>\n",
       "      <td>1.503680e+12</td>\n",
       "      <td>1.503680e+12</td>\n",
       "      <td>9</td>\n",
       "      <td>resign</td>\n",
       "      <td>black</td>\n",
       "      <td>15+30</td>\n",
       "      <td>daniel_likes_chess</td>\n",
       "      <td>1413</td>\n",
       "      <td>soultego</td>\n",
       "      <td>2108</td>\n",
       "      <td>e4 Nc6 d4 e5 d5 Nce7 c3 Ng6 b4</td>\n",
       "      <td>B00</td>\n",
       "      <td>Nimzowitsch Defense: Kennedy Variation |  Link...</td>\n",
       "      <td>5</td>\n",
       "    </tr>\n",
       "    <tr>\n",
       "      <th>8</th>\n",
       "      <td>dwF3DJHO</td>\n",
       "      <td>True</td>\n",
       "      <td>1.503510e+12</td>\n",
       "      <td>1.503510e+12</td>\n",
       "      <td>66</td>\n",
       "      <td>resign</td>\n",
       "      <td>black</td>\n",
       "      <td>15+0</td>\n",
       "      <td>ehabfanri</td>\n",
       "      <td>1439</td>\n",
       "      <td>daniel_likes_chess</td>\n",
       "      <td>1392</td>\n",
       "      <td>e4 e5 Bc4 Nc6 Nf3 Nd4 d3 Nxf3+ Qxf3 Nf6 h3 Bc5...</td>\n",
       "      <td>C50</td>\n",
       "      <td>Italian Game: Schilling-Kostic Gambit</td>\n",
       "      <td>6</td>\n",
       "    </tr>\n",
       "    <tr>\n",
       "      <th>9</th>\n",
       "      <td>afoMwnLg</td>\n",
       "      <td>True</td>\n",
       "      <td>1.503440e+12</td>\n",
       "      <td>1.503440e+12</td>\n",
       "      <td>119</td>\n",
       "      <td>mate</td>\n",
       "      <td>white</td>\n",
       "      <td>10+0</td>\n",
       "      <td>daniel_likes_chess</td>\n",
       "      <td>1381</td>\n",
       "      <td>mirco25</td>\n",
       "      <td>1209</td>\n",
       "      <td>e4 d5 exd5 Qxd5 Nc3 Qe5+ Be2 Na6 d4 Qf5 Bxa6 b...</td>\n",
       "      <td>B01</td>\n",
       "      <td>Scandinavian Defense: Mieses-Kotroc Variation</td>\n",
       "      <td>4</td>\n",
       "    </tr>\n",
       "  </tbody>\n",
       "</table>\n",
       "</div>"
      ],
      "text/plain": [
       "         id  rated    created_at  last_move_at  turns victory_status winner  \\\n",
       "0  TZJHLljE  False  1.504210e+12  1.504210e+12     13      outoftime  white   \n",
       "1  l1NXvwaE   True  1.504130e+12  1.504130e+12     16         resign  black   \n",
       "2  mIICvQHh   True  1.504130e+12  1.504130e+12     61           mate  white   \n",
       "3  kWKvrqYL   True  1.504110e+12  1.504110e+12     61           mate  white   \n",
       "4  9tXo1AUZ   True  1.504030e+12  1.504030e+12     95           mate  white   \n",
       "5  MsoDV9wj  False  1.504240e+12  1.504240e+12      5           draw   draw   \n",
       "6  qwU9rasv   True  1.504230e+12  1.504230e+12     33         resign  white   \n",
       "7  RVN0N3VK  False  1.503680e+12  1.503680e+12      9         resign  black   \n",
       "8  dwF3DJHO   True  1.503510e+12  1.503510e+12     66         resign  black   \n",
       "9  afoMwnLg   True  1.503440e+12  1.503440e+12    119           mate  white   \n",
       "\n",
       "  increment_code            white_id  white_rating            black_id  \\\n",
       "0           15+2            bourgris          1500                a-00   \n",
       "1           5+10                a-00          1322           skinnerua   \n",
       "2           5+10              ischia          1496                a-00   \n",
       "3           20+0       daniamurashov          1439        adivanov2009   \n",
       "4           30+3           nik221107          1523        adivanov2009   \n",
       "5           10+0           trelynn17          1250       franklin14532   \n",
       "6           10+0             capa_jr          1520  daniel_likes_chess   \n",
       "7          15+30  daniel_likes_chess          1413            soultego   \n",
       "8           15+0           ehabfanri          1439  daniel_likes_chess   \n",
       "9           10+0  daniel_likes_chess          1381             mirco25   \n",
       "\n",
       "   black_rating                                              moves  \\\n",
       "0          1191  d4 d5 c4 c6 cxd5 e6 dxe6 fxe6 Nf3 Bb4+ Nc3 Ba5...   \n",
       "1          1261  d4 Nc6 e4 e5 f4 f6 dxe5 fxe5 fxe5 Nxe5 Qd4 Nc6...   \n",
       "2          1500  e4 e5 d3 d6 Be3 c6 Be2 b5 Nd2 a5 a4 c5 axb5 Nc...   \n",
       "3          1454  d4 d5 Nf3 Bf5 Nc3 Nf6 Bf4 Ng4 e3 Nc6 Be2 Qd7 O...   \n",
       "4          1469  e4 e5 Nf3 d6 d4 Nc6 d5 Nb4 a3 Na6 Nc3 Be7 b4 N...   \n",
       "5          1002                                   e4 c5 Nf3 Qa5 a3   \n",
       "6          1423  d4 d5 e4 dxe4 Nc3 Nf6 f3 exf3 Nxf3 Nc6 Bb5 a6 ...   \n",
       "7          2108                     e4 Nc6 d4 e5 d5 Nce7 c3 Ng6 b4   \n",
       "8          1392  e4 e5 Bc4 Nc6 Nf3 Nd4 d3 Nxf3+ Qxf3 Nf6 h3 Bc5...   \n",
       "9          1209  e4 d5 exd5 Qxd5 Nc3 Qe5+ Be2 Na6 d4 Qf5 Bxa6 b...   \n",
       "\n",
       "  opening_eco                                       opening_name  opening_ply  \n",
       "0         D10                   Slav Defense: Exchange Variation            5  \n",
       "1         B00             Nimzowitsch Defense: Kennedy Variation            4  \n",
       "2         C20              King's Pawn Game: Leonardis Variation            3  \n",
       "3         D02             Queen's Pawn Game: Zukertort Variation            3  \n",
       "4         C41                                   Philidor Defense            5  \n",
       "5         B27               Sicilian Defense: Mongoose Variation            4  \n",
       "6         D00         Blackmar-Diemer Gambit: Pietrowsky Defense           10  \n",
       "7         B00  Nimzowitsch Defense: Kennedy Variation |  Link...            5  \n",
       "8         C50              Italian Game: Schilling-Kostic Gambit            6  \n",
       "9         B01      Scandinavian Defense: Mieses-Kotroc Variation            4  "
      ]
     },
     "execution_count": 2,
     "metadata": {},
     "output_type": "execute_result"
    }
   ],
   "source": [
    "from IPython.display import HTML\n",
    "dataset = pd.read_csv(\"BBDD/games.csv\")\n",
    "dataset.head(10)"
   ]
  },
  {
   "cell_type": "markdown",
   "id": "d963f766",
   "metadata": {},
   "source": [
    "\n",
    "\n",
    "Un cop observades les 10 primeres entrades de la BBDD, observerem si existeixen files duplicades:"
   ]
  },
  {
   "cell_type": "code",
   "execution_count": 3,
   "id": "2fbae4cf",
   "metadata": {},
   "outputs": [
    {
     "data": {
      "text/html": [
       "<div>\n",
       "<style scoped>\n",
       "    .dataframe tbody tr th:only-of-type {\n",
       "        vertical-align: middle;\n",
       "    }\n",
       "\n",
       "    .dataframe tbody tr th {\n",
       "        vertical-align: top;\n",
       "    }\n",
       "\n",
       "    .dataframe thead th {\n",
       "        text-align: right;\n",
       "    }\n",
       "</style>\n",
       "<table border=\"1\" class=\"dataframe\">\n",
       "  <thead>\n",
       "    <tr style=\"text-align: right;\">\n",
       "      <th></th>\n",
       "      <th>id</th>\n",
       "      <th>rated</th>\n",
       "      <th>created_at</th>\n",
       "      <th>last_move_at</th>\n",
       "      <th>turns</th>\n",
       "      <th>victory_status</th>\n",
       "      <th>winner</th>\n",
       "      <th>increment_code</th>\n",
       "      <th>white_id</th>\n",
       "      <th>white_rating</th>\n",
       "      <th>black_id</th>\n",
       "      <th>black_rating</th>\n",
       "      <th>moves</th>\n",
       "      <th>opening_eco</th>\n",
       "      <th>opening_name</th>\n",
       "      <th>opening_ply</th>\n",
       "    </tr>\n",
       "  </thead>\n",
       "  <tbody>\n",
       "    <tr>\n",
       "      <th>120</th>\n",
       "      <td>XRuQPSzH</td>\n",
       "      <td>True</td>\n",
       "      <td>1.503580e+12</td>\n",
       "      <td>1.503580e+12</td>\n",
       "      <td>50</td>\n",
       "      <td>resign</td>\n",
       "      <td>black</td>\n",
       "      <td>10+0</td>\n",
       "      <td>chess-brahs</td>\n",
       "      <td>2036</td>\n",
       "      <td>cdvh</td>\n",
       "      <td>1706</td>\n",
       "      <td>Nf3 d5 g3 c5 Bg2 Nc6 d3 Nf6 O-O e5 Nc3 d4 Ne4 ...</td>\n",
       "      <td>A08</td>\n",
       "      <td>King's Indian Attack: French Variation</td>\n",
       "      <td>6</td>\n",
       "    </tr>\n",
       "    <tr>\n",
       "      <th>950</th>\n",
       "      <td>XRuQPSzH</td>\n",
       "      <td>True</td>\n",
       "      <td>1.503580e+12</td>\n",
       "      <td>1.503580e+12</td>\n",
       "      <td>50</td>\n",
       "      <td>resign</td>\n",
       "      <td>black</td>\n",
       "      <td>10+0</td>\n",
       "      <td>chess-brahs</td>\n",
       "      <td>2036</td>\n",
       "      <td>cdvh</td>\n",
       "      <td>1706</td>\n",
       "      <td>Nf3 d5 g3 c5 Bg2 Nc6 d3 Nf6 O-O e5 Nc3 d4 Ne4 ...</td>\n",
       "      <td>A08</td>\n",
       "      <td>King's Indian Attack: French Variation</td>\n",
       "      <td>6</td>\n",
       "    </tr>\n",
       "    <tr>\n",
       "      <th>1443</th>\n",
       "      <td>x1Svcl0P</td>\n",
       "      <td>True</td>\n",
       "      <td>1.499820e+12</td>\n",
       "      <td>1.499830e+12</td>\n",
       "      <td>59</td>\n",
       "      <td>mate</td>\n",
       "      <td>white</td>\n",
       "      <td>10+0</td>\n",
       "      <td>kachess10204542</td>\n",
       "      <td>1171</td>\n",
       "      <td>quantummequanic</td>\n",
       "      <td>1432</td>\n",
       "      <td>c4 e5 Nc3 Nf6 Nf3 Nc6 g3 d5 cxd5 Nxd5 Bg2 Be6 ...</td>\n",
       "      <td>A29</td>\n",
       "      <td>English Opening: King's English Variation |  F...</td>\n",
       "      <td>7</td>\n",
       "    </tr>\n",
       "    <tr>\n",
       "      <th>1794</th>\n",
       "      <td>x1Svcl0P</td>\n",
       "      <td>True</td>\n",
       "      <td>1.499820e+12</td>\n",
       "      <td>1.499830e+12</td>\n",
       "      <td>59</td>\n",
       "      <td>mate</td>\n",
       "      <td>white</td>\n",
       "      <td>10+0</td>\n",
       "      <td>kachess10204542</td>\n",
       "      <td>1171</td>\n",
       "      <td>quantummequanic</td>\n",
       "      <td>1432</td>\n",
       "      <td>c4 e5 Nc3 Nf6 Nf3 Nc6 g3 d5 cxd5 Nxd5 Bg2 Be6 ...</td>\n",
       "      <td>A29</td>\n",
       "      <td>English Opening: King's English Variation |  F...</td>\n",
       "      <td>7</td>\n",
       "    </tr>\n",
       "    <tr>\n",
       "      <th>1795</th>\n",
       "      <td>wgIHzqDo</td>\n",
       "      <td>True</td>\n",
       "      <td>1.499710e+12</td>\n",
       "      <td>1.499710e+12</td>\n",
       "      <td>113</td>\n",
       "      <td>mate</td>\n",
       "      <td>white</td>\n",
       "      <td>10+0</td>\n",
       "      <td>quantummequanic</td>\n",
       "      <td>1403</td>\n",
       "      <td>barrow-wight</td>\n",
       "      <td>1364</td>\n",
       "      <td>e4 e6 e5 Bc5 d4 Be7 c3 Nh6 Bxh6 gxh6 Qd2 Bg5 f...</td>\n",
       "      <td>C00</td>\n",
       "      <td>French Defense: Steinitz Attack</td>\n",
       "      <td>3</td>\n",
       "    </tr>\n",
       "    <tr>\n",
       "      <th>...</th>\n",
       "      <td>...</td>\n",
       "      <td>...</td>\n",
       "      <td>...</td>\n",
       "      <td>...</td>\n",
       "      <td>...</td>\n",
       "      <td>...</td>\n",
       "      <td>...</td>\n",
       "      <td>...</td>\n",
       "      <td>...</td>\n",
       "      <td>...</td>\n",
       "      <td>...</td>\n",
       "      <td>...</td>\n",
       "      <td>...</td>\n",
       "      <td>...</td>\n",
       "      <td>...</td>\n",
       "      <td>...</td>\n",
       "    </tr>\n",
       "    <tr>\n",
       "      <th>20013</th>\n",
       "      <td>Uk0pZCRR</td>\n",
       "      <td>True</td>\n",
       "      <td>1.499532e+12</td>\n",
       "      <td>1.499541e+12</td>\n",
       "      <td>95</td>\n",
       "      <td>resign</td>\n",
       "      <td>black</td>\n",
       "      <td>45+45</td>\n",
       "      <td>kferapont</td>\n",
       "      <td>2094</td>\n",
       "      <td>moistvonlipwig</td>\n",
       "      <td>2228</td>\n",
       "      <td>e4 e5 Nf3 Nc6 Bb5 g6 d4 exd4 Bxc6 dxc6 Qxd4 Qx...</td>\n",
       "      <td>C60</td>\n",
       "      <td>Ruy Lopez: Fianchetto Defense</td>\n",
       "      <td>6</td>\n",
       "    </tr>\n",
       "    <tr>\n",
       "      <th>20014</th>\n",
       "      <td>ZhZm1ol9</td>\n",
       "      <td>True</td>\n",
       "      <td>1.498871e+12</td>\n",
       "      <td>1.498879e+12</td>\n",
       "      <td>109</td>\n",
       "      <td>draw</td>\n",
       "      <td>draw</td>\n",
       "      <td>45+45</td>\n",
       "      <td>moistvonlipwig</td>\n",
       "      <td>2229</td>\n",
       "      <td>mn8</td>\n",
       "      <td>2220</td>\n",
       "      <td>e4 e5 Nf3 Nc6 Bc4 Bc5 c3 Nf6 d4 exd4 cxd4 Bb4+...</td>\n",
       "      <td>C54</td>\n",
       "      <td>Italian Game: Classical Variation |  Greco Gam...</td>\n",
       "      <td>17</td>\n",
       "    </tr>\n",
       "    <tr>\n",
       "      <th>20015</th>\n",
       "      <td>fpqjttDx</td>\n",
       "      <td>True</td>\n",
       "      <td>1.497663e+12</td>\n",
       "      <td>1.497664e+12</td>\n",
       "      <td>42</td>\n",
       "      <td>resign</td>\n",
       "      <td>black</td>\n",
       "      <td>7+30</td>\n",
       "      <td>waltersafarian</td>\n",
       "      <td>2162</td>\n",
       "      <td>moistvonlipwig</td>\n",
       "      <td>2214</td>\n",
       "      <td>d4 Nf6 c4 e6 Nf3 Bb4+ Bd2 a5 e3 O-O Bd3 b6 O-O...</td>\n",
       "      <td>E11</td>\n",
       "      <td>Bogo-Indian Defense: Wade-Smyslov Variation</td>\n",
       "      <td>8</td>\n",
       "    </tr>\n",
       "    <tr>\n",
       "      <th>20016</th>\n",
       "      <td>lzPgCJCS</td>\n",
       "      <td>True</td>\n",
       "      <td>1.497660e+12</td>\n",
       "      <td>1.497663e+12</td>\n",
       "      <td>102</td>\n",
       "      <td>resign</td>\n",
       "      <td>black</td>\n",
       "      <td>7+30</td>\n",
       "      <td>moistvonlipwig</td>\n",
       "      <td>2236</td>\n",
       "      <td>waltersafarian</td>\n",
       "      <td>2148</td>\n",
       "      <td>e4 g6 Nc3 Bg7 f4 c6 g3 d6 Bg2 e5 fxe5 dxe5 d3 ...</td>\n",
       "      <td>B06</td>\n",
       "      <td>Modern Defense</td>\n",
       "      <td>2</td>\n",
       "    </tr>\n",
       "    <tr>\n",
       "      <th>20017</th>\n",
       "      <td>p391pBJv</td>\n",
       "      <td>True</td>\n",
       "      <td>1.497647e+12</td>\n",
       "      <td>1.497654e+12</td>\n",
       "      <td>97</td>\n",
       "      <td>resign</td>\n",
       "      <td>white</td>\n",
       "      <td>60+30</td>\n",
       "      <td>i9_4_2001</td>\n",
       "      <td>2268</td>\n",
       "      <td>moistvonlipwig</td>\n",
       "      <td>2254</td>\n",
       "      <td>e4 e5 Nf3 Nc6 Bc4 Nf6 Ng5 d5 exd5 Na5 Bb5+ c6 ...</td>\n",
       "      <td>C59</td>\n",
       "      <td>Italian Game: Two Knights Defense |  Steinitz ...</td>\n",
       "      <td>17</td>\n",
       "    </tr>\n",
       "  </tbody>\n",
       "</table>\n",
       "<p>816 rows × 16 columns</p>\n",
       "</div>"
      ],
      "text/plain": [
       "             id  rated    created_at  last_move_at  turns victory_status  \\\n",
       "120    XRuQPSzH   True  1.503580e+12  1.503580e+12     50         resign   \n",
       "950    XRuQPSzH   True  1.503580e+12  1.503580e+12     50         resign   \n",
       "1443   x1Svcl0P   True  1.499820e+12  1.499830e+12     59           mate   \n",
       "1794   x1Svcl0P   True  1.499820e+12  1.499830e+12     59           mate   \n",
       "1795   wgIHzqDo   True  1.499710e+12  1.499710e+12    113           mate   \n",
       "...         ...    ...           ...           ...    ...            ...   \n",
       "20013  Uk0pZCRR   True  1.499532e+12  1.499541e+12     95         resign   \n",
       "20014  ZhZm1ol9   True  1.498871e+12  1.498879e+12    109           draw   \n",
       "20015  fpqjttDx   True  1.497663e+12  1.497664e+12     42         resign   \n",
       "20016  lzPgCJCS   True  1.497660e+12  1.497663e+12    102         resign   \n",
       "20017  p391pBJv   True  1.497647e+12  1.497654e+12     97         resign   \n",
       "\n",
       "      winner increment_code         white_id  white_rating         black_id  \\\n",
       "120    black           10+0      chess-brahs          2036             cdvh   \n",
       "950    black           10+0      chess-brahs          2036             cdvh   \n",
       "1443   white           10+0  kachess10204542          1171  quantummequanic   \n",
       "1794   white           10+0  kachess10204542          1171  quantummequanic   \n",
       "1795   white           10+0  quantummequanic          1403     barrow-wight   \n",
       "...      ...            ...              ...           ...              ...   \n",
       "20013  black          45+45        kferapont          2094   moistvonlipwig   \n",
       "20014   draw          45+45   moistvonlipwig          2229              mn8   \n",
       "20015  black           7+30   waltersafarian          2162   moistvonlipwig   \n",
       "20016  black           7+30   moistvonlipwig          2236   waltersafarian   \n",
       "20017  white          60+30        i9_4_2001          2268   moistvonlipwig   \n",
       "\n",
       "       black_rating                                              moves  \\\n",
       "120            1706  Nf3 d5 g3 c5 Bg2 Nc6 d3 Nf6 O-O e5 Nc3 d4 Ne4 ...   \n",
       "950            1706  Nf3 d5 g3 c5 Bg2 Nc6 d3 Nf6 O-O e5 Nc3 d4 Ne4 ...   \n",
       "1443           1432  c4 e5 Nc3 Nf6 Nf3 Nc6 g3 d5 cxd5 Nxd5 Bg2 Be6 ...   \n",
       "1794           1432  c4 e5 Nc3 Nf6 Nf3 Nc6 g3 d5 cxd5 Nxd5 Bg2 Be6 ...   \n",
       "1795           1364  e4 e6 e5 Bc5 d4 Be7 c3 Nh6 Bxh6 gxh6 Qd2 Bg5 f...   \n",
       "...             ...                                                ...   \n",
       "20013          2228  e4 e5 Nf3 Nc6 Bb5 g6 d4 exd4 Bxc6 dxc6 Qxd4 Qx...   \n",
       "20014          2220  e4 e5 Nf3 Nc6 Bc4 Bc5 c3 Nf6 d4 exd4 cxd4 Bb4+...   \n",
       "20015          2214  d4 Nf6 c4 e6 Nf3 Bb4+ Bd2 a5 e3 O-O Bd3 b6 O-O...   \n",
       "20016          2148  e4 g6 Nc3 Bg7 f4 c6 g3 d6 Bg2 e5 fxe5 dxe5 d3 ...   \n",
       "20017          2254  e4 e5 Nf3 Nc6 Bc4 Nf6 Ng5 d5 exd5 Na5 Bb5+ c6 ...   \n",
       "\n",
       "      opening_eco                                       opening_name  \\\n",
       "120           A08             King's Indian Attack: French Variation   \n",
       "950           A08             King's Indian Attack: French Variation   \n",
       "1443          A29  English Opening: King's English Variation |  F...   \n",
       "1794          A29  English Opening: King's English Variation |  F...   \n",
       "1795          C00                    French Defense: Steinitz Attack   \n",
       "...           ...                                                ...   \n",
       "20013         C60                      Ruy Lopez: Fianchetto Defense   \n",
       "20014         C54  Italian Game: Classical Variation |  Greco Gam...   \n",
       "20015         E11        Bogo-Indian Defense: Wade-Smyslov Variation   \n",
       "20016         B06                                     Modern Defense   \n",
       "20017         C59  Italian Game: Two Knights Defense |  Steinitz ...   \n",
       "\n",
       "       opening_ply  \n",
       "120              6  \n",
       "950              6  \n",
       "1443             7  \n",
       "1794             7  \n",
       "1795             3  \n",
       "...            ...  \n",
       "20013            6  \n",
       "20014           17  \n",
       "20015            8  \n",
       "20016            2  \n",
       "20017           17  \n",
       "\n",
       "[816 rows x 16 columns]"
      ]
     },
     "execution_count": 3,
     "metadata": {},
     "output_type": "execute_result"
    }
   ],
   "source": [
    "dataset[dataset.duplicated(keep=False)]"
   ]
  },
  {
   "cell_type": "markdown",
   "id": "f31bc1f4",
   "metadata": {},
   "source": [
    "\n",
    "\n",
    "El resultat ha estat que han estat trobades 816 files duplicades, per tant, s'eliminaran del dataset:"
   ]
  },
  {
   "cell_type": "code",
   "execution_count": 3,
   "id": "37977293",
   "metadata": {},
   "outputs": [
    {
     "data": {
      "text/html": [
       "<div>\n",
       "<style scoped>\n",
       "    .dataframe tbody tr th:only-of-type {\n",
       "        vertical-align: middle;\n",
       "    }\n",
       "\n",
       "    .dataframe tbody tr th {\n",
       "        vertical-align: top;\n",
       "    }\n",
       "\n",
       "    .dataframe thead th {\n",
       "        text-align: right;\n",
       "    }\n",
       "</style>\n",
       "<table border=\"1\" class=\"dataframe\">\n",
       "  <thead>\n",
       "    <tr style=\"text-align: right;\">\n",
       "      <th></th>\n",
       "      <th>id</th>\n",
       "      <th>rated</th>\n",
       "      <th>created_at</th>\n",
       "      <th>last_move_at</th>\n",
       "      <th>turns</th>\n",
       "      <th>victory_status</th>\n",
       "      <th>winner</th>\n",
       "      <th>increment_code</th>\n",
       "      <th>white_id</th>\n",
       "      <th>white_rating</th>\n",
       "      <th>black_id</th>\n",
       "      <th>black_rating</th>\n",
       "      <th>moves</th>\n",
       "      <th>opening_eco</th>\n",
       "      <th>opening_name</th>\n",
       "      <th>opening_ply</th>\n",
       "    </tr>\n",
       "  </thead>\n",
       "  <tbody>\n",
       "  </tbody>\n",
       "</table>\n",
       "</div>"
      ],
      "text/plain": [
       "Empty DataFrame\n",
       "Columns: [id, rated, created_at, last_move_at, turns, victory_status, winner, increment_code, white_id, white_rating, black_id, black_rating, moves, opening_eco, opening_name, opening_ply]\n",
       "Index: []"
      ]
     },
     "execution_count": 3,
     "metadata": {},
     "output_type": "execute_result"
    }
   ],
   "source": [
    "dataset = dataset.drop_duplicates()\n",
    "dataset[dataset.duplicated(keep=False)]"
   ]
  },
  {
   "cell_type": "markdown",
   "id": "f10c1de0",
   "metadata": {},
   "source": [
    "\n",
    "\n",
    "Un cop eliminades les files duplicades s'ha d'examinar si existeixen valors NaN:"
   ]
  },
  {
   "cell_type": "code",
   "execution_count": 4,
   "id": "72aed1b7",
   "metadata": {},
   "outputs": [
    {
     "data": {
      "text/plain": [
       "False"
      ]
     },
     "execution_count": 4,
     "metadata": {},
     "output_type": "execute_result"
    }
   ],
   "source": [
    "dataset.isnull().values.any()"
   ]
  },
  {
   "cell_type": "markdown",
   "id": "a6bd11b4",
   "metadata": {},
   "source": [
    "Com podem observar, no existeixen valors NaN i per tant, no farà falta eliminar-los del dataset.\n",
    "\n"
   ]
  },
  {
   "cell_type": "markdown",
   "id": "51488151",
   "metadata": {},
   "source": [
    "# Matriu de correlació"
   ]
  },
  {
   "cell_type": "markdown",
   "id": "5ab83a32",
   "metadata": {},
   "source": [
    "Un cop preparat el dataset de dades, cal una última preparació, la variable winner. Aquesta variable es del tipus string però necessitem codificar-la per a realitzar les prediccions. Per a fer-ho més simple de predir, ens centrarem en el que ens interesa, predir victòria o derrota, per tant, la convertirem en una variable binaria. Podem observar la matriu de correlació a veure quina informació ens pot aportar:"
   ]
  },
  {
   "cell_type": "code",
   "execution_count": 5,
   "id": "7b97e200",
   "metadata": {},
   "outputs": [
    {
     "data": {
      "image/png": "[encoded data removed]",
      "text/plain": [
       "<Figure size 432x288 with 2 Axes>"
      ]
     },
     "metadata": {
      "needs_background": "light"
     },
     "output_type": "display_data"
    }
   ],
   "source": [
    "#modifiquem l'atribut winner -> white = 0, black = 1, draw = 2\n",
    "dataset['winner'] = dataset['winner'].replace(['white', 'black', 'draw'], [0, 1, 2])\n",
    "dataset = dataset[dataset['winner'] != 2]\n",
    "dataset.head(10)\n",
    "\n",
    "#fem la matriu de correlació\n",
    "corr_matrix = dataset.corr()\n",
    "sns.heatmap(corr_matrix, annot=True)\n",
    "plt.show()"
   ]
  },
  {
   "cell_type": "markdown",
   "id": "3dc0c74d",
   "metadata": {},
   "source": [
    "\n",
    "Es pot observar que els resultats de la matriu de correlació no ens aporten una informació clara. Centrant-nos en l'atribut objectiu a predir, el \"winner\", podem observar que cap dels atributs numèrics aporta una correlació alta. Cal destacar que s'ha codificat aquest atribut ja que era del tipus string i no permetia fer una correlació. Centrant-nos en la matriu en general, observem que només hi ha dos atributs per sobre del 0.6 en correlació entre ells, que son el white_rating amb el black_Rating. Aquest fet és evident ja que la pàgina online assigna partides segons el rating dels jugadors, per tant, aquest serà semblant.\n",
    "Per a fer la recta de regressió s'han escollit els valors numèrics (turns, winner, white_rating, black_rating i opening_ply).\n",
    "\n"
   ]
  },
  {
   "cell_type": "markdown",
   "id": "e43a394f",
   "metadata": {},
   "source": [
    "# Descripció del dataset triat"
   ]
  },
  {
   "cell_type": "code",
   "execution_count": 6,
   "id": "6fe59dcb",
   "metadata": {},
   "outputs": [
    {
     "data": {
      "text/html": [
       "<div>\n",
       "<style scoped>\n",
       "    .dataframe tbody tr th:only-of-type {\n",
       "        vertical-align: middle;\n",
       "    }\n",
       "\n",
       "    .dataframe tbody tr th {\n",
       "        vertical-align: top;\n",
       "    }\n",
       "\n",
       "    .dataframe thead th {\n",
       "        text-align: right;\n",
       "    }\n",
       "</style>\n",
       "<table border=\"1\" class=\"dataframe\">\n",
       "  <thead>\n",
       "    <tr style=\"text-align: right;\">\n",
       "      <th></th>\n",
       "      <th>turns</th>\n",
       "      <th>white_rating</th>\n",
       "      <th>black_rating</th>\n",
       "      <th>opening_ply</th>\n",
       "      <th>winner</th>\n",
       "    </tr>\n",
       "  </thead>\n",
       "  <tbody>\n",
       "    <tr>\n",
       "      <th>count</th>\n",
       "      <td>18711.000000</td>\n",
       "      <td>18711.000000</td>\n",
       "      <td>18711.000000</td>\n",
       "      <td>18711.000000</td>\n",
       "      <td>18711.000000</td>\n",
       "    </tr>\n",
       "    <tr>\n",
       "      <th>mean</th>\n",
       "      <td>59.173695</td>\n",
       "      <td>1593.432900</td>\n",
       "      <td>1585.801507</td>\n",
       "      <td>4.791513</td>\n",
       "      <td>0.476671</td>\n",
       "    </tr>\n",
       "    <tr>\n",
       "      <th>std</th>\n",
       "      <td>32.223163</td>\n",
       "      <td>289.026685</td>\n",
       "      <td>289.421714</td>\n",
       "      <td>2.779821</td>\n",
       "      <td>0.499469</td>\n",
       "    </tr>\n",
       "    <tr>\n",
       "      <th>min</th>\n",
       "      <td>1.000000</td>\n",
       "      <td>784.000000</td>\n",
       "      <td>789.000000</td>\n",
       "      <td>1.000000</td>\n",
       "      <td>0.000000</td>\n",
       "    </tr>\n",
       "    <tr>\n",
       "      <th>25%</th>\n",
       "      <td>37.000000</td>\n",
       "      <td>1398.000000</td>\n",
       "      <td>1390.000000</td>\n",
       "      <td>3.000000</td>\n",
       "      <td>0.000000</td>\n",
       "    </tr>\n",
       "    <tr>\n",
       "      <th>50%</th>\n",
       "      <td>54.000000</td>\n",
       "      <td>1564.000000</td>\n",
       "      <td>1559.000000</td>\n",
       "      <td>4.000000</td>\n",
       "      <td>0.000000</td>\n",
       "    </tr>\n",
       "    <tr>\n",
       "      <th>75%</th>\n",
       "      <td>77.000000</td>\n",
       "      <td>1787.000000</td>\n",
       "      <td>1778.000000</td>\n",
       "      <td>6.000000</td>\n",
       "      <td>1.000000</td>\n",
       "    </tr>\n",
       "    <tr>\n",
       "      <th>max</th>\n",
       "      <td>349.000000</td>\n",
       "      <td>2700.000000</td>\n",
       "      <td>2723.000000</td>\n",
       "      <td>28.000000</td>\n",
       "      <td>1.000000</td>\n",
       "    </tr>\n",
       "  </tbody>\n",
       "</table>\n",
       "</div>"
      ],
      "text/plain": [
       "              turns  white_rating  black_rating   opening_ply        winner\n",
       "count  18711.000000  18711.000000  18711.000000  18711.000000  18711.000000\n",
       "mean      59.173695   1593.432900   1585.801507      4.791513      0.476671\n",
       "std       32.223163    289.026685    289.421714      2.779821      0.499469\n",
       "min        1.000000    784.000000    789.000000      1.000000      0.000000\n",
       "25%       37.000000   1398.000000   1390.000000      3.000000      0.000000\n",
       "50%       54.000000   1564.000000   1559.000000      4.000000      0.000000\n",
       "75%       77.000000   1787.000000   1778.000000      6.000000      1.000000\n",
       "max      349.000000   2700.000000   2723.000000     28.000000      1.000000"
      ]
     },
     "execution_count": 6,
     "metadata": {},
     "output_type": "execute_result"
    }
   ],
   "source": [
    "dataset = dataset[[\"turns\",\"white_rating\",\"black_rating\",\"opening_ply\",\"winner\"]]\n",
    "dataset.describe()"
   ]
  },
  {
   "cell_type": "markdown",
   "id": "374b4ecb",
   "metadata": {},
   "source": [
    "\n",
    "Podem observar que el min i max dels diferents atributs son diferents entre ells, estant així en escales molt diverses. Aquest fet, ens anticipa que les dades s'hauran d'escalar per a poder fer una predicció millor. Abans d'escalar, observem les distribucions d'aquest dataset triat amb l'atribut winner, que és l'atribut objectiu:"
   ]
  },
  {
   "cell_type": "code",
   "execution_count": 7,
   "id": "03107f46",
   "metadata": {},
   "outputs": [
    {
     "data": {
      "image/png": "[encoded data removed]",
      "text/plain": [
       "<Figure size 432x288 with 4 Axes>"
      ]
     },
     "metadata": {
      "needs_background": "light"
     },
     "output_type": "display_data"
    }
   ],
   "source": [
    "dataset = dataset.values\n",
    "for i in range(1,5):\n",
    "    ax = plt.subplot(2,3,i)\n",
    "    ax.scatter(dataset[:,i-1], dataset[:,-1])"
   ]
  },
  {
   "cell_type": "markdown",
   "id": "80b82c1d",
   "metadata": {},
   "source": [
    "\n",
    "Podem observar que aquestes grràfiques no aporten gaire informació ja que no estan ben distribuïdes.\n",
    "\n"
   ]
  },
  {
   "cell_type": "markdown",
   "id": "14839468",
   "metadata": {},
   "source": [
    "# Escalament de les dades i preparació dels conjunts d'entrenament"
   ]
  },
  {
   "cell_type": "markdown",
   "id": "3a0eb8ef",
   "metadata": {},
   "source": [
    "Com s'ha observat anteriorment, les escales de les dades son diferents, podent portar així a resultats inconcluents. Per aquest motiu, s'ha decidit escalar les dades:"
   ]
  },
  {
   "cell_type": "code",
   "execution_count": 8,
   "id": "b5318755",
   "metadata": {},
   "outputs": [],
   "source": [
    "scaler = MinMaxScaler()\n",
    "scaler.fit(dataset)\n",
    "dataset = scaler.transform(dataset)\n",
    "\n",
    "x = dataset[:,:4]\n",
    "y = dataset[:,-1]"
   ]
  },
  {
   "cell_type": "markdown",
   "id": "56819988",
   "metadata": {},
   "source": [
    "Ara preparem els conjunts d'entrenament pels models. S'ha triat fer un 70% de dades d'entrenament i 30% per a fer el testing dels models:"
   ]
  },
  {
   "cell_type": "code",
   "execution_count": 9,
   "id": "8111fae2",
   "metadata": {},
   "outputs": [],
   "source": [
    "x_train, x_test, y_train, y_test = train_test_split(x, y, test_size=0.3)\n",
    "\n"
   ]
  },
  {
   "cell_type": "markdown",
   "id": "7a7a7fea",
   "metadata": {},
   "source": [
    "# Models d'aprenentatge"
   ]
  },
  {
   "cell_type": "markdown",
   "id": "eae24129",
   "metadata": {},
   "source": [
    "S'han triat 5 models d'aprenentatge per a fer el testing del conjunt."
   ]
  },
  {
   "cell_type": "markdown",
   "id": "d7eadc7f",
   "metadata": {},
   "source": [
    "# Regressió lineal multivariable"
   ]
  },
  {
   "cell_type": "code",
   "execution_count": 10,
   "id": "ae0ec5d9",
   "metadata": {},
   "outputs": [
    {
     "name": "stdout",
     "output_type": "stream",
     "text": [
      "Score: 0.1388873424599668\n",
      "MSE: 0.21464691301702246\n"
     ]
    },
    {
     "data": {
      "text/plain": [
       "[<matplotlib.lines.Line2D at 0x19a89840700>,\n",
       " <matplotlib.lines.Line2D at 0x19a89840730>,\n",
       " <matplotlib.lines.Line2D at 0x19a89840760>,\n",
       " <matplotlib.lines.Line2D at 0x19a898408b0>]"
      ]
     },
     "execution_count": 10,
     "metadata": {},
     "output_type": "execute_result"
    },
    {
     "data": {
      "image/png": "[encoded data removed]",
      "text/plain": [
       "<Figure size 432x288 with 1 Axes>"
      ]
     },
     "metadata": {
      "needs_background": "light"
     },
     "output_type": "display_data"
    }
   ],
   "source": [
    "linear_reg = LinearRegression()\n",
    "\n",
    "linear_reg.fit(x_train, y_train)\n",
    "\n",
    "prediccions = linear_reg.predict(x_test)\n",
    "print(\"Score: \" + str(linear_reg.score(x_test, y_test)))\n",
    "print(\"MSE: \" + str(mean_squared_error(y_test, prediccions)))\n",
    "\n",
    "plt.figure()\n",
    "ax = plt.scatter(x_test[:,0], y_test)\n",
    "plt.plot(x_test, prediccions, 'r')"
   ]
  },
  {
   "cell_type": "markdown",
   "id": "5e6e3b0d",
   "metadata": {},
   "source": [
    "Sembla evident que el resultat no és gaire bo ja que la variable a predir no genera una relació contínua amb les altres i per tant, aquest model no era el més adequat.\n",
    "\n"
   ]
  },
  {
   "cell_type": "markdown",
   "id": "effc3a37",
   "metadata": {},
   "source": [
    "# Regressió d'arbre de decisió"
   ]
  },
  {
   "cell_type": "code",
   "execution_count": 11,
   "id": "d3f8d9a9",
   "metadata": {},
   "outputs": [
    {
     "name": "stdout",
     "output_type": "stream",
     "text": [
      "Profunditat del arbre: 42\n",
      "Numero de fulles del arbre: 3603\n",
      "Score: -0.5278144688011741\n",
      "MSE: 0.3808336302101888\n"
     ]
    },
    {
     "data": {
      "text/plain": [
       "[<matplotlib.lines.Line2D at 0x19a898b7a30>,\n",
       " <matplotlib.lines.Line2D at 0x19a898b7a60>,\n",
       " <matplotlib.lines.Line2D at 0x19a898b7b80>,\n",
       " <matplotlib.lines.Line2D at 0x19a898b7ca0>]"
      ]
     },
     "execution_count": 11,
     "metadata": {},
     "output_type": "execute_result"
    },
    {
     "data": {
      "image/png": "[encoded data removed]",
      "text/plain": [
       "<Figure size 432x288 with 1 Axes>"
      ]
     },
     "metadata": {
      "needs_background": "light"
     },
     "output_type": "display_data"
    }
   ],
   "source": [
    "decision_tree = DecisionTreeRegressor()\n",
    "\n",
    "decision_tree.fit(x_train, y_train)\n",
    "\n",
    "print(\"Profunditat del arbre: \" + str(decision_tree.get_depth()))\n",
    "print(\"Numero de fulles del arbre: \" + str(decision_tree.get_n_leaves()))\n",
    "\n",
    "prediccions_arbre = decision_tree.predict(x_test)\n",
    "print(\"Score: \" + str(decision_tree.score(x_test, y_test)))\n",
    "print(\"MSE: \" + str(mean_squared_error(y_test, prediccions_arbre)))\n",
    "\n",
    "ax = plt.scatter(x_test[:,0], y_test)\n",
    "plt.plot(x_test, prediccions_arbre, 'r')"
   ]
  },
  {
   "cell_type": "markdown",
   "id": "dc7f69e7",
   "metadata": {},
   "source": [
    "Podem observar que l'arbre, a diferència de la regressió lineal multivariable, intenta abarcar tots els casos, generant així un error mitjà més elevat, i generant un Score negatiu.\n",
    "\n"
   ]
  },
  {
   "cell_type": "markdown",
   "id": "ebaf1064",
   "metadata": {},
   "source": [
    "# Regressió d'arbre aleatori"
   ]
  },
  {
   "cell_type": "code",
   "execution_count": 12,
   "id": "8d10a416",
   "metadata": {},
   "outputs": [
    {
     "name": "stdout",
     "output_type": "stream",
     "text": [
      "Score: 0.15885652762264446\n",
      "MSE: 0.20966925543284645\n"
     ]
    },
    {
     "data": {
      "text/plain": [
       "[<matplotlib.lines.Line2D at 0x19a897b9040>,\n",
       " <matplotlib.lines.Line2D at 0x19a897b9070>,\n",
       " <matplotlib.lines.Line2D at 0x19a897b9a90>,\n",
       " <matplotlib.lines.Line2D at 0x19a897b9b80>]"
      ]
     },
     "execution_count": 12,
     "metadata": {},
     "output_type": "execute_result"
    },
    {
     "data": {
      "image/png": "[encoded data removed]",
      "text/plain": [
       "<Figure size 432x288 with 1 Axes>"
      ]
     },
     "metadata": {
      "needs_background": "light"
     },
     "output_type": "display_data"
    }
   ],
   "source": [
    "random_tree = RandomForestRegressor()\n",
    "\n",
    "random_tree.fit(x_train, y_train)\n",
    "\n",
    "prediccions_randtree = random_tree.predict(x_test)\n",
    "print(\"Score: \" + str(random_tree.score(x_test, y_test)))\n",
    "print(\"MSE: \" + str(mean_squared_error(y_test, prediccions_randtree) ))\n",
    "\n",
    "ax = plt.scatter(x_test[:,0], y_test)\n",
    "plt.plot(x_test, prediccions_randtree, 'r')"
   ]
  },
  {
   "cell_type": "markdown",
   "id": "b9df557d",
   "metadata": {},
   "source": [
    "Podem observar que abarca menys part de la gràfica que l'anterior model però genera un coeficient de determinació més elevat i un error mitjà més baix.\n",
    "\n"
   ]
  },
  {
   "cell_type": "markdown",
   "id": "710f80e5",
   "metadata": {},
   "source": [
    "# Regressió Logística"
   ]
  },
  {
   "cell_type": "code",
   "execution_count": 13,
   "id": "4f7c2640",
   "metadata": {},
   "outputs": [
    {
     "name": "stdout",
     "output_type": "stream",
     "text": [
      "Score: 0.6501603135019594\n",
      "MSE: 0.3498396864980406\n"
     ]
    },
    {
     "data": {
      "text/plain": [
       "[<matplotlib.lines.Line2D at 0x19a894aaeb0>,\n",
       " <matplotlib.lines.Line2D at 0x19a894aad60>,\n",
       " <matplotlib.lines.Line2D at 0x19a894aabe0>,\n",
       " <matplotlib.lines.Line2D at 0x19a894aab80>]"
      ]
     },
     "execution_count": 13,
     "metadata": {},
     "output_type": "execute_result"
    },
    {
     "data": {
      "image/png": "[encoded data removed]",
      "text/plain": [
       "<Figure size 432x288 with 1 Axes>"
      ]
     },
     "metadata": {
      "needs_background": "light"
     },
     "output_type": "display_data"
    }
   ],
   "source": [
    "random_tree = LogisticRegression()\n",
    "\n",
    "random_tree.fit(x_train, y_train)\n",
    "\n",
    "prediccions_randtree = random_tree.predict(x_test)\n",
    "print(\"Score: \" + str(random_tree.score(x_test, y_test)))\n",
    "print(\"MSE: \" + str(mean_squared_error(y_test, prediccions_randtree) ))\n",
    "\n",
    "ax = plt.scatter(x_test[:,0], y_test)\n",
    "plt.plot(x_test, prediccions_randtree, 'r')"
   ]
  },
  {
   "attachments": {},
   "cell_type": "markdown",
   "id": "6c40334c",
   "metadata": {},
   "source": [
    "Com es podia preveure, la regressió logística dona un millor score al ser una variable binaria.\n"
   ]
  },
  {
   "cell_type": "markdown",
   "id": "d71922e4",
   "metadata": {},
   "source": [
    "# SGD - Descens de Gradient Estocàstic"
   ]
  },
  {
   "cell_type": "code",
   "execution_count": 14,
   "id": "0c65491a",
   "metadata": {},
   "outputs": [
    {
     "name": "stdout",
     "output_type": "stream",
     "text": [
      "Score: 0.6318133238332739\n",
      "MSE: 0.36818667616672607\n"
     ]
    },
    {
     "data": {
      "text/plain": [
       "[<matplotlib.lines.Line2D at 0x19a88e644f0>,\n",
       " <matplotlib.lines.Line2D at 0x19a88e64520>,\n",
       " <matplotlib.lines.Line2D at 0x19a88e64640>,\n",
       " <matplotlib.lines.Line2D at 0x19a88e64760>]"
      ]
     },
     "execution_count": 14,
     "metadata": {},
     "output_type": "execute_result"
    },
    {
     "data": {
      "image/png": "[encoded data removed]",
      "text/plain": [
       "<Figure size 432x288 with 1 Axes>"
      ]
     },
     "metadata": {
      "needs_background": "light"
     },
     "output_type": "display_data"
    }
   ],
   "source": [
    "from sklearn.linear_model import SGDClassifier\n",
    "random_tree = SGDClassifier()\n",
    "\n",
    "random_tree.fit(x_train, y_train)\n",
    "\n",
    "prediccions_randtree = random_tree.predict(x_test)\n",
    "print(\"Score: \" + str(random_tree.score(x_test, y_test)))\n",
    "print(\"MSE: \" + str(mean_squared_error(y_test, prediccions_randtree) ))\n",
    "\n",
    "ax = plt.scatter(x_test[:,0], y_test)\n",
    "plt.plot(x_test, prediccions_randtree, 'r')"
   ]
  },
  {
   "cell_type": "markdown",
   "id": "d5061f66",
   "metadata": {},
   "source": [
    "Podem observar que el score també és bastant elevat comparat amb els 3 primers, però lleugerament pitjor que el score de la regressió Logística.\n"
   ]
  },
  {
   "cell_type": "markdown",
   "id": "1541b96b",
   "metadata": {},
   "source": [
    "# Cerca dels millors hiperparàmetres"
   ]
  },
  {
   "cell_type": "markdown",
   "id": "7e29e4b5",
   "metadata": {},
   "source": [
    "En l'apartat anterior s'han utilitzat els models amb els paràmetres per defecte. Ara, es farà una cerca dels millors paràmetres per veure quin és el model que té més marge de millora i si pot superar a la regressió logística per defecte."
   ]
  },
  {
   "cell_type": "markdown",
   "id": "09b2943d",
   "metadata": {},
   "source": [
    "# Regressió Lineal Multivariable"
   ]
  },
  {
   "cell_type": "code",
   "execution_count": 15,
   "id": "7e94958a",
   "metadata": {
    "scrolled": false
   },
   "outputs": [
    {
     "name": "stdout",
     "output_type": "stream",
     "text": [
      "Fitting 5 folds for each of 4 candidates, totalling 20 fits\n",
      "Mejores hiperparámetros: {'copy_X': True, 'fit_intercept': True}\n",
      "La millor score: 0.13335522356905735\n",
      "Error quadratic mitja: 0.46330002484029986\n"
     ]
    }
   ],
   "source": [
    "# Importar las librerias necesarias\n",
    "from sklearn.linear_model import LinearRegression\n",
    "from sklearn.model_selection import GridSearchCV\n",
    "from sklearn.metrics import f1_score, mean_squared_error\n",
    "\n",
    "# Crear el modelo de regresión lineal\n",
    "model = LinearRegression()\n",
    "\n",
    "# Crear el diccionario de hiperparámetros a probar\n",
    "param_grid = {\n",
    "    'fit_intercept': [True, False], # Probar si el modelo debe incluir un término intercepto\n",
    "    'copy_X': [True, False], # Probar si el modelo debe copiar los datos de entrada\n",
    "}\n",
    "\n",
    "# Crear la búsqueda en cuadrícula\n",
    "grid_search = GridSearchCV(model, param_grid, cv=5, verbose=2, n_jobs=-1)\n",
    "\n",
    "# Entrenar el modelo utilizando la búsqueda en cuadrícula\n",
    "grid_search.fit(x_train, y_train)\n",
    "\n",
    "# Imprimir los mejores hiperparámetros encontrados\n",
    "print('Mejores hiperparámetros:', grid_search.best_params_)\n",
    "\n",
    "\n",
    "# Calcular el f1-score y el MSE medio para los mejores hiperparámetros\n",
    "print(\"La millor score: \" + str(grid_search.best_score_))\n",
    "print(\"Error quadratic mitja: \" + str(math.sqrt(mean_squared_error(y_test,grid_search.predict(x_test)))))\n"
   ]
  },
  {
   "cell_type": "markdown",
   "id": "0d428dc1",
   "metadata": {},
   "source": [
    "# Regressió d'arbre de decisió"
   ]
  },
  {
   "cell_type": "code",
   "execution_count": 16,
   "id": "01b02910",
   "metadata": {},
   "outputs": [
    {
     "name": "stdout",
     "output_type": "stream",
     "text": [
      "Fitting 5 folds for each of 1536 candidates, totalling 7680 fits\n",
      "Los mejores hiperparámetros son: {'max_depth': 30, 'max_features': 'log2', 'max_leaf_nodes': 50, 'min_weight_fraction_leaf': 0.0}\n",
      "La millor score: 0.12622873412331664\n",
      "Error quadratic mitja: 0.4716845716426038\n"
     ]
    }
   ],
   "source": [
    "from sklearn.model_selection import GridSearchCV\n",
    "from sklearn.tree import DecisionTreeRegressor\n",
    "\n",
    "# Define los parámetros que quieres explorar\n",
    "param_grid = {'max_depth': [1,3,5,10,15,25,30,50],\n",
    "              'min_weight_fraction_leaf': [0.0,0.1,0.2,0.3,0.4,0.5],\n",
    "              'max_features': ['auto','log2','sqrt',None],\n",
    "              'max_leaf_nodes': [None,10,20,50,80,100,250,500]}\n",
    "\n",
    "# Crea una instancia del modelo DecisionTreeRegressor\n",
    "regressor = DecisionTreeRegressor()\n",
    "\n",
    "# Utiliza la búsqueda en cuadrícula (grid search) para encontrar los mejores hiperparámetros\n",
    "grid_search = GridSearchCV(regressor, param_grid, cv=5, verbose=2, n_jobs=-1)\n",
    "\n",
    "# Entrena el modelo utilizando los hiperparámetros encontrados\n",
    "grid_search.fit(x_train, y_train)\n",
    "\n",
    "# Imprime los mejores hiperparámetros encontrados\n",
    "print(\"Los mejores hiperparámetros son: {}\".format(grid_search.best_params_))\n",
    "\n",
    "# Calcular el f1-score y el MSE medio para los mejores hiperparámetros\n",
    "print(\"La millor score: \" + str(grid_search.best_score_))\n",
    "print(\"Error quadratic mitja: \" + str(math.sqrt(mean_squared_error(y_test,grid_search.predict(x_test)))))"
   ]
  },
  {
   "cell_type": "markdown",
   "id": "13b35a07",
   "metadata": {},
   "source": [
    "# Regressió d'arbre aleatoria"
   ]
  },
  {
   "cell_type": "code",
   "execution_count": 19,
   "id": "392d6f06",
   "metadata": {},
   "outputs": [
    {
     "name": "stdout",
     "output_type": "stream",
     "text": [
      "Fitting 3 folds for each of 100 candidates, totalling 300 fits\n",
      "Los mejores hiperparámetros son: {'n_estimators': 600, 'min_samples_split': 10, 'min_samples_leaf': 1, 'max_features': 'sqrt', 'max_depth': 110, 'bootstrap': True}\n",
      "La millor score: 0.17263699973440602\n",
      "Error quadratic mitja: 0.4462795094521141\n"
     ]
    }
   ],
   "source": [
    "from sklearn.model_selection import GridSearchCV\n",
    "from sklearn.ensemble import RandomForestRegressor\n",
    "\n",
    "# Define los parámetros que quieres explorar\n",
    "param_grid = {'n_estimators': [int(x) for x in np.linspace(start = 200, stop = 2000, num = 10)],\n",
    "              'max_features': ['auto', 'sqrt'],\n",
    "              'max_depth': [int(x) for x in np.linspace(10, 110, num = 11)],\n",
    "              'min_samples_split': [2, 5, 10],\n",
    "              'min_samples_leaf': [1, 2, 4],\n",
    "              'bootstrap': [True, False]}\n",
    "\n",
    "# Crea una instancia del modelo RandomForestRegressor\n",
    "regressor = RandomForestRegressor()\n",
    "\n",
    "# Utiliza la búsqueda en cuadrícula (grid search) para encontrar los mejores hiperparámetros\n",
    "grid_search = RandomizedSearchCV(regressor, param_grid, n_iter = 100, cv = 3, verbose=2, random_state=42, n_jobs = -1)\n",
    "\n",
    "# Entrena el modelo utilizando los hiperparámetros encontrados\n",
    "grid_search.fit(x_train, y_train)\n",
    "\n",
    "# Imprime los mejores hiperparámetros encontrados\n",
    "print(\"Los mejores hiperparámetros son: {}\".format(grid_search.best_params_))\n",
    "\n",
    "# Calcular el f1-score y el MSE medio para los mejores hiperparámetros\n",
    "print(\"La millor score: \" + str(grid_search.best_score_))\n",
    "print(\"Error quadratic mitja: \" + str(math.sqrt(mean_squared_error(y_test,grid_search.predict(x_test)))))"
   ]
  },
  {
   "cell_type": "markdown",
   "id": "dcb6421a",
   "metadata": {},
   "source": [
    "# Regressió Logística"
   ]
  },
  {
   "cell_type": "code",
   "execution_count": 20,
   "id": "56eb19c2",
   "metadata": {},
   "outputs": [
    {
     "name": "stdout",
     "output_type": "stream",
     "text": [
      "Fitting 5 folds for each of 15 candidates, totalling 75 fits\n",
      "Los mejores hiperparámetros son: {'C': 100, 'penalty': 'l2', 'solver': 'lbfgs'}\n",
      "La millor score: 0.6563331380487278\n",
      "Error quadratic mitja: 0.5913218754491942\n"
     ]
    }
   ],
   "source": [
    "from sklearn.model_selection import GridSearchCV\n",
    "from sklearn.linear_model import LogisticRegression\n",
    "\n",
    "# Define los parámetros que quieres explorar\n",
    "param_grid = {'solver': ['newton-cg', 'lbfgs', 'liblinear'],\n",
    "              'penalty': ['l2'],\n",
    "              'C': [100, 10, 1.0, 0.1, 0.01]}\n",
    "\n",
    "# Crea una instancia del modelo LogisticRegression\n",
    "regressor = LogisticRegression()\n",
    "\n",
    "# Utiliza la búsqueda en cuadrícula (grid search) para encontrar los mejores hiperparámetros\n",
    "grid_search = GridSearchCV(regressor, param_grid, cv=5, verbose=2, n_jobs=-1)\n",
    "\n",
    "# Entrena el modelo utilizando los hiperparámetros encontrados\n",
    "grid_search.fit(x_train, y_train)\n",
    "\n",
    "# Imprime los mejores hiperparámetros encontrados\n",
    "print(\"Los mejores hiperparámetros son: {}\".format(grid_search.best_params_))\n",
    "\n",
    "# Calcular el f1-score y el MSE medio para los mejores hiperparámetros\n",
    "print(\"La millor score: \" + str(grid_search.best_score_))\n",
    "print(\"Error quadratic mitja: \" + str(math.sqrt(mean_squared_error(y_test,grid_search.predict(x_test)))))"
   ]
  },
  {
   "cell_type": "markdown",
   "id": "238855c1",
   "metadata": {},
   "source": [
    "# SGD - Descens de Gradient Estocàstic"
   ]
  },
  {
   "cell_type": "code",
   "execution_count": 23,
   "id": "ee1ec868",
   "metadata": {},
   "outputs": [
    {
     "name": "stdout",
     "output_type": "stream",
     "text": [
      "Los mejores hiperparámetros son: {'alpha': 0.0001, 'l1_ratio': 0.0, 'loss': 'squared_error', 'penalty': 'l1'}\n",
      "La millor score: -0.46694453213335685\n",
      "Error quadratic mitja: 0.47123399255814247\n"
     ]
    }
   ],
   "source": [
    "from sklearn.model_selection import GridSearchCV\n",
    "from sklearn.linear_model import SGDRegressor\n",
    "\n",
    "# Define los parámetros que quieres explorar\n",
    "param_grid = {'loss': ['squared_error', 'huber'],\n",
    "              'penalty': ['l2', 'l1', 'elasticnet'],\n",
    "              'alpha': [0.0001, 0.001, 0.01, 0.1, 1.0],\n",
    "              'l1_ratio': [0.0, 0.1, 0.2, 0.3, 0.4, 0.5, 0.6, 0.7, 0.8, 0.9, 1.0]}\n",
    "\n",
    "# Crea una instancia del modelo SGDRegressor\n",
    "regressor = SGDRegressor()\n",
    "\n",
    "# Utiliza la búsqueda en cuadrícula (grid search) para encontrar los mejores hiperparámetros\n",
    "grid_search = GridSearchCV(regressor, param_grid, cv=5, scoring='neg_mean_absolute_error')\n",
    "\n",
    "# Entrena el modelo utilizando los hiperparámetros encontrados\n",
    "grid_search.fit(x_train, y_train)\n",
    "\n",
    "# Imprime los mejores hiperparámetros encontrados\n",
    "print(\"Los mejores hiperparámetros son: {}\".format(grid_search.best_params_))\n",
    "\n",
    "# Calcular el f1-score y el MSE medio para los mejores hiperparámetros\n",
    "print(\"La millor score: \" + str(grid_search.best_score_))\n",
    "print(\"Error quadratic mitja: \" + str(math.sqrt(mean_squared_error(y_test,grid_search.predict(x_test)))))"
   ]
  },
  {
   "cell_type": "code",
   "execution_count": null,
   "id": "50273fa4",
   "metadata": {},
   "outputs": [],
   "source": []
  }
 ],
 "metadata": {
  "kernelspec": {
   "display_name": "Python 3 (ipykernel)",
   "language": "python",
   "name": "python3"
  },
  "language_info": {
   "codemirror_mode": {
    "name": "ipython",
    "version": 3
   },
   "file_extension": ".py",
   "mimetype": "text/x-python",
   "name": "python",
   "nbconvert_exporter": "python",
   "pygments_lexer": "ipython3",
   "version": "3.9.12"
  }
 },
 "nbformat": 4,
 "nbformat_minor": 5
}
